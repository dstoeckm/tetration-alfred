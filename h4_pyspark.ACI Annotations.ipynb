{
 "cells": [
  {
   "cell_type": "markdown",
   "metadata": {},
   "source": [
    "This is a user app that leverages Tetration Alfred in order to annotate discovered endpoints with ACI details"
   ]
  },
  {
   "cell_type": "markdown",
   "metadata": {},
   "source": [
    "### Configuration"
   ]
  },
  {
   "cell_type": "code",
   "execution_count": 40,
   "metadata": {
    "collapsed": false
   },
   "outputs": [],
   "source": [
    "data_tap = 'datatap_name_here'\n",
    "topic = 'kafka_topic_here'\n",
    "ip_subnet_prefix = 'x.y_here'"
   ]
  },
  {
   "cell_type": "markdown",
   "metadata": {},
   "source": [
    "## -----------------------------------------------"
   ]
  },
  {
   "cell_type": "code",
   "execution_count": 41,
   "metadata": {
    "collapsed": true
   },
   "outputs": [],
   "source": [
    "# Import required libraries\n",
    "from pyspark.sql import SQLContext\n",
    "sqlContext = SQLContext(sc)\n",
    "import pandas as pd\n",
    "import json"
   ]
  },
  {
   "cell_type": "code",
   "execution_count": 42,
   "metadata": {
    "collapsed": false
   },
   "outputs": [],
   "source": [
    "# Fetch IPs from inventory and dump into a Pandas dataset. Use ip_address LIKE to limit scope to ACI endpoints \n",
    "inventory_data = sc._jvm.com.tetration.apps.IO.read(sqlContext._ssql_ctx, \"/tetration/inventory/\", \"PARQUET\", \"LASTHOUR\")\n",
    "inventory_data.registerTempTable(\"inventory1h\")\n",
    "query = \"select ip_address from inventory1h where ip_address LIKE \" + \"'%{}%'\".format(ip_subnet_prefix)\n",
    "inventory_1h_ips = sqlContext.sql(query)\n",
    "inventory1hds = inventory_1h_ips.toPandas()"
   ]
  },
  {
   "cell_type": "code",
   "execution_count": 43,
   "metadata": {
    "collapsed": false
   },
   "outputs": [],
   "source": [
    "# Create the list of endpoints\n",
    "endpoint_list = []\n",
    "for endpoint in inventory1hds.ip_address.unique():\n",
    "    endpoint_list.append(endpoint)"
   ]
  },
  {
   "cell_type": "code",
   "execution_count": 44,
   "metadata": {
    "collapsed": true
   },
   "outputs": [],
   "source": [
    "# Build question JSON\n",
    "d = {'query': 'get_endpoint_detail',\n",
    "     'payload' : endpoint_list}\n",
    "json_question = json.dumps(d)"
   ]
  },
  {
   "cell_type": "code",
   "execution_count": 45,
   "metadata": {
    "collapsed": false
   },
   "outputs": [
    {
     "data": {
      "text/plain": [
       "1"
      ]
     },
     "execution_count": 45,
     "metadata": {},
     "output_type": "execute_result"
    }
   ],
   "source": [
    "# Send a Kafka message with the question\n",
    "sc._jvm.com.tetration.apps.DataTaps.sendMessage(json_question, data_tap, topic)"
   ]
  }
 ],
 "metadata": {
  "kernelspec": {
   "display_name": "PySpark",
   "name": "h4_pyspark",
   "language": "python"
  },
  "language_info": {
   "codemirror_mode": {
    "version": 3,
    "name": "ipython"
   },
   "version": "3.5.2",
   "nbconvert_exporter": "python",
   "pygments_lexer": "ipython3",
   "file_extension": ".py",
   "name": "python",
   "mimetype": "text/x-python"
  }
 },
 "nbformat": 4,
 "nbformat_minor": 1
}
